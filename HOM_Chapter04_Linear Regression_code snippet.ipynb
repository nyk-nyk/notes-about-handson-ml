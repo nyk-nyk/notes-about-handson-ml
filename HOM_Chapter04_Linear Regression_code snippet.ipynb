{
 "cells": [
  {
   "cell_type": "markdown",
   "metadata": {},
   "source": [
    "Partial derivatives of the cost function can be extended to the gradient vector to compute them all in one go[1].\n",
    "\n",
    "Equation 4-5. Partial derivatives of the cost function\n",
    "$$\n",
    "\\frac{\\delta}{\\delta\\theta_j}MSE(\\theta)=\\frac{2}{m}\\sum\\limits_{i=1}^{m}\\left(\\theta^\\top X^{(i)}-y^{(i)}\\right)x_j^{(i)}\n",
    "$$\n",
    "\n"
   ]
  },
  {
   "cell_type": "markdown",
   "metadata": {},
   "source": [
    "Equation 4-6. Gradient vector of the cost function\n",
    "$$\n",
    "\\nabla MSE(\\theta)=\n",
    "\\begin{pmatrix}\n",
    "\\frac{\\delta}{\\delta\\theta_0} MSE(\\theta) \\\\\n",
    "\\frac{\\delta}{\\delta\\theta_1} MSE(\\theta) \\\\\n",
    "\\cdots \\\\\n",
    "\\frac{\\delta}{\\delta\\theta_n} MSE(\\theta)\n",
    "\\end{pmatrix} \\\\\n",
    "=\n",
    "\\begin{pmatrix}\n",
    "\\frac{2}{m}\\sum\\limits_{i=1}^{m}\\left(\\theta^\\top X^{(i)}-y^{(i)}\\right)x_0^{(i)} \\\\\n",
    "\\frac{2}{m}\\sum\\limits_{i=1}^{m}\\left(\\theta^\\top X^{(i)}-y^{(i)}\\right)x_1^{(i)} \\\\\n",
    "\\cdots \\\\\n",
    "\\frac{2}{m}\\sum\\limits_{i=1}^{m}\\left(\\theta^\\top X^{(i)}-y^{(i)}\\right)x_j^{(i)} \\\\\n",
    "\\end{pmatrix}\\\\\n",
    "=\n",
    "\\begin{pmatrix}\n",
    "\\frac{2}{m}\\sum\\limits_{i=1}^{m}\\left(\\theta^\\top X^{(i)}x_0^{(i)}-y^{(i)}x_0^{(i)}\\right) \\\\\n",
    "\\frac{2}{m}\\sum\\limits_{i=1}^{m}\\left(\\theta^\\top X^{(i)}x_1^{(i)}-y^{(i)}x_1^{(i)}\\right) \\\\\n",
    "\\cdots \\\\\n",
    "\\frac{2}{m}\\sum\\limits_{i=1}^{m}\\left(\\theta^\\top X^{(i)}x_j^{(i)}-y^{(i)}x_j^{(i)}\\right) \\\\\n",
    "\\end{pmatrix}\\\\\n",
    "=\n",
    "\\frac{2}{m}\n",
    "\\begin{pmatrix}\n",
    "\\theta^{\\top}X^{\\top}X_0-y^{\\top}X_0\\\\\n",
    "\\theta^{\\top}X^{\\top}X_1-y^{\\top}X_1\\\\\n",
    "\\cdots \\\\\n",
    "\\theta^{\\top}X^{\\top}X_j-y^{\\top}X_j\\\\\n",
    "\\end{pmatrix} \\\\\n",
    "=\n",
    "\\frac{2}{m}\n",
    "\\begin{pmatrix}\n",
    "(\\theta^{\\top}X^{\\top}-y^{\\top})X_0\\\\\n",
    "(\\theta^{\\top}X^{\\top}-y^{\\top})X_1\\\\\n",
    "\\cdots \\\\\n",
    "(\\theta^{\\top}X^{\\top}-y^{\\top})X_j\\\\\n",
    "\\end{pmatrix} \\\\\n",
    "=\n",
    "\\frac{2}{m}\n",
    "\\left(X^{\\top}\\left(\\theta^{\\top}X^{\\top}-y^{\\top}\\right)^{\\top}\n",
    "\\right) \\\\\n",
    "=\n",
    "\\frac{2}{m}\n",
    "X^{\\top}\\left(X\\theta-y\\right)\n",
    "$$\n",
    ", where n is the number of features, $\\theta$ is the model's parameter vector, $X_j$ is column j of $X$, m is the number of instances in the dataset and $y$ is the vector of target values"
   ]
  },
  {
   "cell_type": "markdown",
   "metadata": {},
   "source": [
    "References:\n",
    "[1]Hands-On Machine Learning with Scikit-Learn, Keras, and TensorFlow by Aurelien Geron"
   ]
  },
  {
   "cell_type": "code",
   "execution_count": 22,
   "metadata": {},
   "outputs": [],
   "source": [
    "import matplotlib.pyplot as plt\n",
    "import numpy as np"
   ]
  },
  {
   "cell_type": "code",
   "execution_count": 4,
   "metadata": {},
   "outputs": [],
   "source": [
    "X = 2 * np.random.rand(100, 1)\n",
    "y = 4 + 3 * X + np.random.randn(100, 1)"
   ]
  },
  {
   "cell_type": "code",
   "execution_count": 5,
   "metadata": {},
   "outputs": [],
   "source": [
    "X_b = np.c_[np.ones((100, 1)), X]\n",
    "theta_best = np.linalg.inv(X_b.T.dot(X_b)).dot(X_b.T).dot(y)"
   ]
  },
  {
   "cell_type": "code",
   "execution_count": 6,
   "metadata": {},
   "outputs": [
    {
     "data": {
      "text/plain": [
       "array([[4.04675251],\n",
       "       [2.97783852]])"
      ]
     },
     "execution_count": 6,
     "metadata": {},
     "output_type": "execute_result"
    }
   ],
   "source": [
    "theta_best"
   ]
  },
  {
   "cell_type": "code",
   "execution_count": 8,
   "metadata": {},
   "outputs": [],
   "source": [
    "X_new = np.array([[0], [2]])"
   ]
  },
  {
   "cell_type": "code",
   "execution_count": 13,
   "metadata": {},
   "outputs": [],
   "source": [
    "X_new_b = np.c_[np.ones((2, 1)), X_new]"
   ]
  },
  {
   "cell_type": "code",
   "execution_count": 14,
   "metadata": {},
   "outputs": [],
   "source": [
    "y_predict = X_new_b.dot(theta_best)"
   ]
  },
  {
   "cell_type": "code",
   "execution_count": 15,
   "metadata": {},
   "outputs": [
    {
     "data": {
      "text/plain": [
       "array([[ 4.04675251],\n",
       "       [10.00242956]])"
      ]
     },
     "execution_count": 15,
     "metadata": {},
     "output_type": "execute_result"
    }
   ],
   "source": [
    "y_predict"
   ]
  },
  {
   "cell_type": "code",
   "execution_count": 23,
   "metadata": {},
   "outputs": [
    {
     "data": {
      "image/png": "[encoded data removed]",
      "text/plain": [
       "<Figure size 432x288 with 1 Axes>"
      ]
     },
     "metadata": {
      "needs_background": "light"
     },
     "output_type": "display_data"
    }
   ],
   "source": [
    "plt.plot(X_new, y_predict, 'r-')\n",
    "plt.plot(X, y, 'b.')\n",
    "plt.axis([0, 2, 0, 15])\n",
    "plt.show()"
   ]
  },
  {
   "cell_type": "code",
   "execution_count": 25,
   "metadata": {},
   "outputs": [
    {
     "data": {
      "text/plain": [
       "LinearRegression(copy_X=True, fit_intercept=True, n_jobs=None, normalize=False)"
      ]
     },
     "execution_count": 25,
     "metadata": {},
     "output_type": "execute_result"
    }
   ],
   "source": [
    "from sklearn.linear_model import LinearRegression\n",
    "lin_reg = LinearRegression()\n",
    "lin_reg.fit(X, y)"
   ]
  },
  {
   "cell_type": "code",
   "execution_count": 26,
   "metadata": {},
   "outputs": [
    {
     "data": {
      "text/plain": [
       "(array([4.04675251]), array([[2.97783852]]))"
      ]
     },
     "execution_count": 26,
     "metadata": {},
     "output_type": "execute_result"
    }
   ],
   "source": [
    "lin_reg.intercept_, lin_reg.coef_"
   ]
  },
  {
   "cell_type": "code",
   "execution_count": 27,
   "metadata": {},
   "outputs": [
    {
     "data": {
      "text/plain": [
       "array([[ 4.04675251],\n",
       "       [10.00242956]])"
      ]
     },
     "execution_count": 27,
     "metadata": {},
     "output_type": "execute_result"
    }
   ],
   "source": [
    "lin_reg.predict(X_new)"
   ]
  },
  {
   "cell_type": "code",
   "execution_count": 28,
   "metadata": {},
   "outputs": [],
   "source": [
    "theta_best_svd, redisuals, rank, s = np.linalg.lstsq(X_b, y, rcond=1e-6)"
   ]
  },
  {
   "cell_type": "code",
   "execution_count": 29,
   "metadata": {},
   "outputs": [
    {
     "data": {
      "text/plain": [
       "array([[4.04675251],\n",
       "       [2.97783852]])"
      ]
     },
     "execution_count": 29,
     "metadata": {},
     "output_type": "execute_result"
    }
   ],
   "source": [
    "theta_best_svd"
   ]
  },
  {
   "cell_type": "code",
   "execution_count": 30,
   "metadata": {},
   "outputs": [
    {
     "data": {
      "text/plain": [
       "array([[4.04675251],\n",
       "       [2.97783852]])"
      ]
     },
     "execution_count": 30,
     "metadata": {},
     "output_type": "execute_result"
    }
   ],
   "source": [
    "np.linalg.pinv(X_b).dot(y)"
   ]
  },
  {
   "cell_type": "code",
   "execution_count": 31,
   "metadata": {},
   "outputs": [],
   "source": [
    "eta = 0.1\n",
    "n_iterations = 1000\n",
    "m = 100\n",
    "\n",
    "theta = np.random.randn(2, 1)\n",
    "\n",
    "for iteration in range(n_iterations):\n",
    "    gradients = 2/m*X_b.T.dot(X_b.dot(theta) - y)\n",
    "    theta = theta - eta * gradients"
   ]
  },
  {
   "cell_type": "code",
   "execution_count": 32,
   "metadata": {},
   "outputs": [
    {
     "data": {
      "text/plain": [
       "array([[4.04675251],\n",
       "       [2.97783852]])"
      ]
     },
     "execution_count": 32,
     "metadata": {},
     "output_type": "execute_result"
    }
   ],
   "source": [
    "theta"
   ]
  },
  {
   "cell_type": "code",
   "execution_count": 36,
   "metadata": {},
   "outputs": [
    {
     "data": {
      "text/plain": [
       "array([[705.32816736],\n",
       "       [806.99477052]])"
      ]
     },
     "execution_count": 36,
     "metadata": {},
     "output_type": "execute_result"
    }
   ],
   "source": [
    "X_b.T.dot(X_b).dot(theta)"
   ]
  },
  {
   "cell_type": "code",
   "execution_count": 37,
   "metadata": {},
   "outputs": [
    {
     "data": {
      "text/plain": [
       "array([[705.32816736],\n",
       "       [806.99477052]])"
      ]
     },
     "execution_count": 37,
     "metadata": {},
     "output_type": "execute_result"
    }
   ],
   "source": [
    "X_b.T.dot(y)"
   ]
  },
  {
   "cell_type": "code",
   "execution_count": null,
   "metadata": {},
   "outputs": [],
   "source": []
  }
 ],
 "metadata": {
  "kernelspec": {
   "display_name": "Python 3",
   "language": "python",
   "name": "python3"
  },
  "language_info": {
   "codemirror_mode": {
    "name": "ipython",
    "version": 3
   },
   "file_extension": ".py",
   "mimetype": "text/x-python",
   "name": "python",
   "nbconvert_exporter": "python",
   "pygments_lexer": "ipython3",
   "version": "3.8.1"
  }
 },
 "nbformat": 4,
 "nbformat_minor": 4
}
